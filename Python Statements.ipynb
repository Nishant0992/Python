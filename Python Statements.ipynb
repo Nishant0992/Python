{
 "cells": [
  {
   "cell_type": "code",
   "execution_count": 1,
   "metadata": {},
   "outputs": [
    {
     "name": "stdout",
     "output_type": "stream",
     "text": [
      "start\n",
      "s\n",
      "sentence\n"
     ]
    }
   ],
   "source": [
    "st = 'Print only the words that start with s in this sentence'\n",
    "my_list=st.split()\n",
    "for i in my_list:\n",
    "    if i[0].lower()=='s':\n",
    "        print(i)"
   ]
  },
  {
   "cell_type": "code",
   "execution_count": 2,
   "metadata": {},
   "outputs": [
    {
     "name": "stdout",
     "output_type": "stream",
     "text": [
      "0\n",
      "2\n",
      "4\n",
      "6\n",
      "8\n",
      "10\n"
     ]
    }
   ],
   "source": [
    "for i in range(0,11,2):\n",
    "    print(i)"
   ]
  },
  {
   "cell_type": "code",
   "execution_count": 4,
   "metadata": {},
   "outputs": [
    {
     "name": "stdout",
     "output_type": "stream",
     "text": [
      "[3, 6, 9, 12, 15, 18, 21, 24, 27, 30, 33, 36, 39, 42, 45, 48]\n"
     ]
    }
   ],
   "source": [
    "my_list=[x for x in range(1,51) if x%3==0]\n",
    "print(my_list)"
   ]
  },
  {
   "cell_type": "code",
   "execution_count": 5,
   "metadata": {},
   "outputs": [
    {
     "name": "stdout",
     "output_type": "stream",
     "text": [
      "word\n",
      "in\n",
      "this\n",
      "sentence\n",
      "that\n",
      "an\n",
      "even\n",
      "number\n",
      "of\n"
     ]
    }
   ],
   "source": [
    "st = 'Print every word in this sentence that has an even number of letters'\n",
    "my_list=st.split()\n",
    "for x in my_list:\n",
    "    if len(x)%2==0:\n",
    "        print(x)"
   ]
  },
  {
   "cell_type": "code",
   "execution_count": 9,
   "metadata": {},
   "outputs": [
    {
     "name": "stdout",
     "output_type": "stream",
     "text": [
      "The number is 3 Fizz\n",
      "The number is 5 Buzz\n",
      "The number is 6 Fizz\n",
      "The number is 9 Fizz\n",
      "The number is 10 Buzz\n",
      "The number is 12 Fizz\n",
      "The number is 15 FizzBuzz\n",
      "The number is 18 Fizz\n",
      "The number is 20 Buzz\n",
      "The number is 21 Fizz\n",
      "The number is 24 Fizz\n",
      "The number is 25 Buzz\n",
      "The number is 27 Fizz\n",
      "The number is 30 FizzBuzz\n",
      "The number is 33 Fizz\n",
      "The number is 35 Buzz\n",
      "The number is 36 Fizz\n",
      "The number is 39 Fizz\n",
      "The number is 40 Buzz\n",
      "The number is 42 Fizz\n",
      "The number is 45 FizzBuzz\n",
      "The number is 48 Fizz\n",
      "The number is 50 Buzz\n",
      "The number is 51 Fizz\n",
      "The number is 54 Fizz\n",
      "The number is 55 Buzz\n",
      "The number is 57 Fizz\n",
      "The number is 60 FizzBuzz\n",
      "The number is 63 Fizz\n",
      "The number is 65 Buzz\n",
      "The number is 66 Fizz\n",
      "The number is 69 Fizz\n",
      "The number is 70 Buzz\n",
      "The number is 72 Fizz\n",
      "The number is 75 FizzBuzz\n",
      "The number is 78 Fizz\n",
      "The number is 80 Buzz\n",
      "The number is 81 Fizz\n",
      "The number is 84 Fizz\n",
      "The number is 85 Buzz\n",
      "The number is 87 Fizz\n",
      "The number is 90 FizzBuzz\n",
      "The number is 93 Fizz\n",
      "The number is 95 Buzz\n",
      "The number is 96 Fizz\n",
      "The number is 99 Fizz\n",
      "The number is 100 Buzz\n"
     ]
    }
   ],
   "source": [
    "for x in range(1,101):\n",
    "    if x%3==0 and x%5==0:\n",
    "        print('The number is {} FizzBuzz'.format(x))\n",
    "    elif x%5==0:\n",
    "        print('The number is {} Buzz'.format(x))\n",
    "    elif x%3==0:\n",
    "        print('The number is {} Fizz'.format(x))"
   ]
  },
  {
   "cell_type": "code",
   "execution_count": 10,
   "metadata": {},
   "outputs": [
    {
     "name": "stdout",
     "output_type": "stream",
     "text": [
      "['C', 'a', 'l', 'o', 't', 'f', 'l', 'o', 'e', 'w', 'i', 't', 's']\n"
     ]
    }
   ],
   "source": [
    "st = 'Create a list of the first letters of every word in this string'\n",
    "new_list=[x[0] for x in st.split()]\n",
    "print(new_list)"
   ]
  },
  {
   "cell_type": "code",
   "execution_count": null,
   "metadata": {},
   "outputs": [],
   "source": []
  }
 ],
 "metadata": {
  "kernelspec": {
   "display_name": "Python 3",
   "language": "python",
   "name": "python3"
  },
  "language_info": {
   "codemirror_mode": {
    "name": "ipython",
    "version": 3
   },
   "file_extension": ".py",
   "mimetype": "text/x-python",
   "name": "python",
   "nbconvert_exporter": "python",
   "pygments_lexer": "ipython3",
   "version": "3.7.4"
  }
 },
 "nbformat": 4,
 "nbformat_minor": 2
}
